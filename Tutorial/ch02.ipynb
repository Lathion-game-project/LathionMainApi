{
 "cells": [
  {
   "attachments": {},
   "cell_type": "markdown",
   "metadata": {},
   "source": [
    "# 논리연산과 제어문\n",
    "\n",
    "* 프로그래밍이란, 논리 연산의 반복이라고 할 수 있다.\n",
    "* 각종 논리가 참이면 어떤 함수를 실행하거나, 거짓이라면 어떤 함수를 실행하라 등으로 요약 될 수 있다. \n",
    "* 이 문서에서는 파이썬의 기초가 되는 기초 논리에 대하여 서술한다."
   ]
  },
  {
   "attachments": {},
   "cell_type": "markdown",
   "metadata": {},
   "source": [
    "# 논리 기호\n",
    "\n",
    "## boolean 자료형\n",
    "- 자료형중, boolean, 혹은 bool 이라고 하는 자료형이 존재한다.\n",
    "- 이는 조건의 참, 거짓을 표현하는 기초적인 표현법이다.\n",
    "- 파이썬에서는 bool 이라고 표현하며, 그 요소로는...\n",
    "\n",
    "```py\n",
    "True  #논리연산등이 '참'이다\n",
    "False #논리연산등이 '거짓'이다.\n",
    "```\n",
    "* 이때, 무조건 앞 문자는 대문자여야 한다.\n",
    "\n",
    "- 이것이 이해가 된다면, 아래 논리기호들의 연산값은 '모두' True 혹은 False로 반환된다는 점을 알게 될 것이다."
   ]
  },
  {
   "attachments": {},
   "cell_type": "markdown",
   "metadata": {},
   "source": [
    "## 논리연산자\n",
    "\n",
    "논리연산자는 아래와 같은 것들이 있다.\n",
    "```py\n",
    "\n",
    "#C-style은 C언어 계열에서 쓰이는 연산자를 의미한다. \n",
    "#그러나 파이썬은 무조건 주석처리 되지 않은 부분만 써야 한다.\n",
    "a == b         #C-style = ==\n",
    "# a=b, 즉 a는 b와 같으면 True를, 아니면 False를 방출한다.\n",
    "# 주의! : python에서 = 만 쓰게되면 무조건 a에 b를 대입처리한다. SQL에선 = 만 써도 됨\n",
    "# 대입에도 특성이 있지만, 이건 차후 전문적으로 알려줄 것. (call by reference , call by value) \n",
    "\n",
    "a != b         #C-style = !=\n",
    "# a와 b가 같지않으면 Ture를, 아니면 False를 방출한다.\n",
    "\n",
    "a > b , a >= b #C-style = > , >= \n",
    "# a가 b보다 크면 True를, 아니면 False를 방출한다.\n",
    "\n",
    "a < b , a <= b #C-style = < , <= \n",
    "# b가 a보다 크면 True를, 아니면 False를 방출한다.\n",
    "\n",
    "a or b         #C-style = || \n",
    "# OR은 a 혹은 b 둘중 하나라도 True면 True를 방출한다.\n",
    "\n",
    "a and b        #C-style = &&\n",
    "# AND는 a b 둘다 True면 True를 방출한다.\n",
    "\n",
    "  not a        #C-style = ! \n",
    "# not은 반대로 준다. True를 준다면 False를, False를 준다면 True를 준다.\n",
    "\n",
    "a in b\n",
    "# in은 b속에 a가 있다면 True를 방출한다. \n",
    "      \n",
    "```"
   ]
  },
  {
   "attachments": {},
   "cell_type": "markdown",
   "metadata": {},
   "source": [
    "## 논리연산의 우선 순위\n",
    "\n",
    "만약에 주어진 식이... \n",
    "```py\n",
    "a = True\n",
    "b = False\n",
    "c = True\n",
    "```\n",
    "그리고 풀라는 문제가...\n",
    "```py\n",
    "a and b or c and c\n",
    "```\n",
    "라면, 결과는 어찌될까?"
   ]
  },
  {
   "cell_type": "code",
   "execution_count": 2,
   "metadata": {},
   "outputs": [
    {
     "name": "stdout",
     "output_type": "stream",
     "text": [
      "True\n"
     ]
    }
   ],
   "source": [
    "a = True\n",
    "b = False\n",
    "c = True\n",
    "print(a and b or c and c)"
   ]
  },
  {
   "attachments": {},
   "cell_type": "markdown",
   "metadata": {},
   "source": [
    "파이썬은, AND를 우선으로 처리하고, 그 후 OR을 처리한다.\n",
    "```py\n",
    "\n",
    "a and b            # True or False = False\n",
    "c and c            # True and True = True\n",
    "(a and b) or (c and c) # True and true = True\n",
    "\n",
    "```\n",
    "로 처리한다.\n"
   ]
  },
  {
   "cell_type": "code",
   "execution_count": 10,
   "metadata": {},
   "outputs": [
    {
     "name": "stdout",
     "output_type": "stream",
     "text": [
      "False\n",
      "True\n",
      "True\n"
     ]
    }
   ],
   "source": [
    "print(a and b)            # True or False\n",
    "print(c and c)       # False or True\n",
    "print(a and b or c and c) # True and true"
   ]
  },
  {
   "attachments": {},
   "cell_type": "markdown",
   "metadata": {},
   "source": [
    "그런데, 중간에 있는 조건문을 먼저 처리하고 싶을 때가 있다.  \n",
    "이때는 괄호를 쓰면 먼저 처리해준다. \n",
    "```py\n",
    " a or b and b and c   # True or False and False and True = False\n",
    " (a or b) and b and c\n",
    " # True or False = True \n",
    " # (True or False = True) and False and True = False\n",
    " # \n",
    "```\n",
    "괄호를 배치하면, 괄호가 최 우선으로 처리되기 때문에, 조건문에서 괄호는 중요한 것이다 !"
   ]
  },
  {
   "cell_type": "code",
   "execution_count": 11,
   "metadata": {},
   "outputs": [
    {
     "name": "stdout",
     "output_type": "stream",
     "text": [
      "True\n",
      "False\n"
     ]
    }
   ],
   "source": [
    "print(a or b and b)\n",
    "print((a or b) and b and b)"
   ]
  },
  {
   "attachments": {},
   "cell_type": "markdown",
   "metadata": {},
   "source": [
    "자세한 연산 우선순위는 아래를 참고하면 도움이 된다! \n",
    "https://dojang.io/mod/page/view.php?id=2461"
   ]
  },
  {
   "attachments": {},
   "cell_type": "markdown",
   "metadata": {},
   "source": [
    "# 제어문\n",
    "반복하기, 조건에 맞으면 이거 해달라고 하는건 여기서 진행한다.\n",
    "\n",
    "제어문은 아래가 있다.\n",
    "\n",
    "```py\n",
    "\n",
    "for i in k :\n",
    "# i는 k속에 있는 원소를 나열하여 반복한다.\n",
    "# range(max)... 0 ~ max-1이 원소인 리스트-비슷한 객체를 반환한다.\n",
    "# for i in range (k)라면 k 번 반복하는 함수가 된다 ! \n",
    "\n",
    "while i==j :\n",
    "#i == j 인 동안 반복한다.\n",
    "#즉, 조건문이 True인 경우 무제한 반복한다.\n",
    "#때문에, break나 조건의 제어가 필요하다.\n",
    "\n",
    "break\n",
    "# 위의 for, while 명령문을 그냥 빠져나간다.\n",
    "continue \n",
    "# 위의 for, while 명령문을 다음 원소로 다시 시작한다.\n",
    "\n",
    "if i == j :\n",
    "#i==j 라면....>조건문이 True라면 실행된다.\n",
    "\n",
    "elif 1 != j :\n",
    "#위의 if문이 False인데, elif 옆에 있는 조건문이 True라면 실행된다.\n",
    "\n",
    "else :\n",
    "# 그냥 다 아니라면 실행된다.\n",
    "\n",
    "```"
   ]
  }
 ],
 "metadata": {
  "kernelspec": {
   "display_name": "Python 3",
   "language": "python",
   "name": "python3"
  },
  "language_info": {
   "codemirror_mode": {
    "name": "ipython",
    "version": 3
   },
   "file_extension": ".py",
   "mimetype": "text/x-python",
   "name": "python",
   "nbconvert_exporter": "python",
   "pygments_lexer": "ipython3",
   "version": "3.10.9 (tags/v3.10.9:1dd9be6, Dec  6 2022, 20:01:21) [MSC v.1934 64 bit (AMD64)]"
  },
  "orig_nbformat": 4,
  "vscode": {
   "interpreter": {
    "hash": "17520897d6eafe7af38d6e67b5777e7d50df7b0a9de3181f821dce7d56a3e44f"
   }
  }
 },
 "nbformat": 4,
 "nbformat_minor": 2
}
