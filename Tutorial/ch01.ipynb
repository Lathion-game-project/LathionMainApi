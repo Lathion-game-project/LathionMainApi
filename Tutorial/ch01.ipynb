{
 "cells": [
  {
   "attachments": {},
   "cell_type": "markdown",
   "metadata": {},
   "source": [
    "# 파이썬 입문\n",
    "# License: Lutica CANARD\n",
    "\n",
    "\n",
    "# PYTHON 시작\n",
    "- Microsoft Store에서 Python 3.10 검색후 다운\n",
    "- VS extension에서 Python 검색후 다운로드\n",
    "\n",
    "# PYTHON 개요\n",
    "- 인터프리터식 언어 > 컴파일하지 않음\n",
    "- 형타입에 엄격하지 않음 > 형 타입을 지정하지 않아도 됨, 그러나 자료형은 존재함으로 고려하여 프로그래밍 해야함.\n",
    "- 고급 함수가 많음> 짧은 코딩이 가능함.\n",
    "\n",
    "# 기초문법\n",
    "> #= 주석 (프로그램이 읽지않고 넘어감.)\n",
    "> def 함수 이름 (인자) : =>함수를 정의함\n",
    "> pass  : 넘깁니다.\n",
    "> print(보여줄거) : 보여줄거 보여줌 \n",
    "> return 뭐 : 뭐를 결과값으로 돌려주고, 함수를 끝냄"
   ]
  },
  {
   "cell_type": "code",
   "execution_count": 12,
   "metadata": {},
   "outputs": [
    {
     "name": "stdout",
     "output_type": "stream",
     "text": [
      "Lathion\n",
      "Yes\n"
     ]
    }
   ],
   "source": [
    "# 이것은 주석입니다. 실행해도 읽혀지지 않습니다.\n",
    "def functions(argument) :\n",
    "    '''\n",
    "    이것도 주석임 ㅇㅇ\n",
    "    '''\n",
    "    marint = \"Lathion\"\n",
    "    print(marint) # 뭐가 나올까요\n",
    "    print(argument)\n",
    "    pass\n",
    "functions('Yes')"
   ]
  },
  {
   "attachments": {},
   "cell_type": "markdown",
   "metadata": {},
   "source": [
    "\n",
    "# 자료형\n",
    "- 컴퓨터는 여러 자료형이 존재함. 파이썬 기준으로 보면 아래와 같음.\n",
    "  \n",
    "## 정수형\n",
    " > https://wikidocs.net/12\n",
    " > int 라고도 함. 파이썬에 long, short등의 다른 형은 잘 쓰이진 않음.\n",
    " > 정수만 저장함 (ex. 1, 2 , -999)등. 따라서 소수를 저장할 수 없음.\n",
    " > 정수끼리 + - / * %(나눠서 나오는 나머지)를 하면 실수형을 포함한 숫자형으로 나옴!"
   ]
  },
  {
   "cell_type": "code",
   "execution_count": 10,
   "metadata": {},
   "outputs": [
    {
     "name": "stdout",
     "output_type": "stream",
     "text": [
      "3\n",
      "7\n",
      "0.75\n",
      "3\n",
      "12\n"
     ]
    }
   ],
   "source": [
    "print(int(1+2))\n",
    "print(3+4)\n",
    "print(3/4)\n",
    "print(3%4)\n",
    "print(3*4)"
   ]
  },
  {
   "attachments": {},
   "cell_type": "markdown",
   "metadata": {},
   "source": [
    "## 소수형\n",
    " > float라고 함. \n",
    " > 정수와 소수를 저장함. (ex. 1.112 , 2.5, 4.2 ...)\n",
    " > 자료구조상 문제가 될 수 있으므로 취급시 유의해야함 !\n",
    " > https://youtu.be/-GsrYvZoAdA 참고\n"
   ]
  },
  {
   "cell_type": "code",
   "execution_count": 8,
   "metadata": {},
   "outputs": [
    {
     "name": "stdout",
     "output_type": "stream",
     "text": [
      "0.45\n",
      "0.26149999999999995\n"
     ]
    }
   ],
   "source": [
    "print(0.12+0.33)\n",
    "print(0.12+0.1415) #왜 0.2615가 아닌가?"
   ]
  },
  {
   "attachments": {},
   "cell_type": "markdown",
   "metadata": {},
   "source": [
    "\n",
    "## 문자열\n",
    " > string, 줄여서 str이라고 함.\n",
    " > 말 그대도 문자를 저장함. 문자열로 지정하는 방법은 \",',''' 등이 있다.\n",
    " > 각각의 문자에 접근하려면... []을 쓰면 된다.\n",
    " > https://wikidocs.net/13\n"
   ]
  },
  {
   "cell_type": "code",
   "execution_count": 11,
   "metadata": {},
   "outputs": [
    {
     "name": "stdout",
     "output_type": "stream",
     "text": [
      "Marint\n",
      "\n",
      "This is Tutorial\n",
      "\n",
      "h\n"
     ]
    }
   ],
   "source": [
    "print('Marint')\n",
    "print('''\n",
    "This is Tutorial\n",
    "''')\n",
    "a = \"This string\"\n",
    "print(a[1])"
   ]
  },
  {
   "attachments": {},
   "cell_type": "markdown",
   "metadata": {},
   "source": [
    "\n",
    "## List및 열거형\n",
    " > https://wikidocs.net/14 참고\n",
    " > 여러 자료들을 묶어놓은 하나의 묶음과 같음 \n",
    " > 각각의 member에 접근하려면... []을 쓰면 됨. :: 각각의 문자열의 경우, 문자열의 위치를 나타낸다!  \n",
    " > !!! member의 번호(index)는 0에서부터 시작!   \n",
    " ### range, len 의 개념 \n",
    " > range()는 일종의 list지만, list는 아님. 즉, 리스트처럼 쓰려면 형 변환을해야함. >> for 명령문에서 쓰이는데, 이는 제어문 할때 다시 이야기함.   \n",
    " > len(list)는 list의 길이(member의 수)를 불러와줌.      \n",
    "    https://wikidocs.net/16039   \n",
    " > list에 member추가 =  \n",
    " list.append()> 맨 끝에 추가 Append \n",
    " list.insert(index, 값) > index위치에 값을 추가 \n",
    " > list에 member제거 = list.remove(값) -> list에서 특정된 값을 제거  \n",
    " list.extend(list)도 있으나 이런건 검색해보길   "
   ]
  },
  {
   "cell_type": "code",
   "execution_count": 15,
   "metadata": {},
   "outputs": [
    {
     "name": "stdout",
     "output_type": "stream",
     "text": [
      "0\n",
      "['라시온']\n",
      "['라시온', '마']\n",
      "['라시온']\n",
      "['rkfmem', '미미']\n",
      "['미미', 'rkfmem']\n",
      "['미미', 'rkfmem', 123, ['Assemble']]\n"
     ]
    }
   ],
   "source": [
    "리스트 = []\n",
    "print(len(리스트))\n",
    "\n",
    "리스트.append('라시온')\n",
    "\n",
    "print(리스트)\n",
    "리스트.insert(1,'마')\n",
    "\n",
    "print(리스트)\n",
    "\n",
    "리스트.remove('마')\n",
    "print(리스트)\n",
    "\n",
    "리스트[0] = 'rkfmem'\n",
    "#리스트[1] = '가르드' #리스트의 길이가 1이므로 2(1+1)번째 원소에는 접근 불가\n",
    "리스트.append('미미')\n",
    "print(리스트)\n",
    "\n",
    "리스트.reverse() #반대로!\n",
    "print(리스트)\n",
    "\n",
    "리스트.extend([123,['Assemble']]) #리스트를 확장해줌\n",
    "print(리스트)"
   ]
  },
  {
   "attachments": {},
   "cell_type": "markdown",
   "metadata": {},
   "source": [
    "# dictionary\n",
    "- key:value로 이루어진 자료묶음.\n",
    "- {}로 선언가능하다.\n",
    "- 접근법은 list와 동일하나, string으로 접근 가능... key로 int등도 사용가능하나 json에서 string으로 바꿔버리니 string으로 쓰길 권장\n",
    "- key는 value와 1:1 대응. \n",
    "- key만 뽑으려면 .... > .keys()를 쓰면 된다\n",
    "- 만약 key가 없을 것 같은데 값은 찾아야 할 때 > .get(key)를 쓰면 된다.\n",
    "- https://wikidocs.net/16043 참고\n",
    "- ** 중요한 자료형 !"
   ]
  },
  {
   "cell_type": "code",
   "execution_count": 21,
   "metadata": {},
   "outputs": [
    {
     "name": "stdout",
     "output_type": "stream",
     "text": [
      "{'딕딕': '흠'}\n",
      "{'딕딕': '흠', '디그': {'디그': '디그'}}\n",
      "흠\n",
      "dict_keys(['딕딕', '디그'])\n",
      "None\n"
     ]
    },
    {
     "ename": "KeyError",
     "evalue": "'흠냐룽'",
     "output_type": "error",
     "traceback": [
      "\u001b[1;31m---------------------------------------------------------------------------\u001b[0m",
      "\u001b[1;31mKeyError\u001b[0m                                  Traceback (most recent call last)",
      "Cell \u001b[1;32mIn[21], line 9\u001b[0m\n\u001b[0;32m      7\u001b[0m \u001b[39mprint\u001b[39m(딕\u001b[39m.\u001b[39mkeys())\n\u001b[0;32m      8\u001b[0m \u001b[39mprint\u001b[39m(딕\u001b[39m.\u001b[39mget(\u001b[39m'\u001b[39m\u001b[39m흠냐룽\u001b[39m\u001b[39m'\u001b[39m)) \u001b[39m#None\u001b[39;00m\n\u001b[1;32m----> 9\u001b[0m \u001b[39mprint\u001b[39m(딕[\u001b[39m'\u001b[39;49m\u001b[39m흠냐룽\u001b[39;49m\u001b[39m'\u001b[39;49m]) \u001b[39m#에러\u001b[39;00m\n",
      "\u001b[1;31mKeyError\u001b[0m: '흠냐룽'"
     ]
    }
   ],
   "source": [
    "딕 = {}\n",
    "딕[\"딕딕\"] = '흠'\n",
    "print(딕)\n",
    "딕[\"디그\"] = {\"디그\":\"디그\"} #1:1대응에는 다른 자료형도 된다\n",
    "print(딕)\n",
    "print(딕[\"딕딕\"])\n",
    "print(딕.keys())\n",
    "print(딕.get('흠냐룽')) #None\n",
    "print(딕['흠냐룽']) #에러\n"
   ]
  },
  {
   "attachments": {},
   "cell_type": "markdown",
   "metadata": {},
   "source": [
    "과제 : 아래 code에 \n",
    "사칙연산의 기호를 key로 하고, 그 결과를 value로 하는 함수를 return 하는 함수를 def하라.\\"
   ]
  },
  {
   "cell_type": "code",
   "execution_count": 24,
   "metadata": {},
   "outputs": [
    {
     "name": "stdout",
     "output_type": "stream",
     "text": [
      "{}\n",
      "m\n"
     ]
    }
   ],
   "source": [
    "'''\n",
    "힌트 : a + b의 결과가 c일 때, \n",
    "def functionk (a,b) :\n",
    "    ret = {}\n",
    "    ret[\"+\"] = a+b\n",
    "    return ret\n",
    "print(functionk(1,2)) 이런식으로 짜면 된다.\n",
    "이것을 + - / % * 모두 사용하여 \n",
    "'''\n",
    "\n",
    "def problem(a,b) :\n",
    "    ret = {}\n",
    "\n",
    "    return ret\n",
    "print(problem(2,5))\n",
    "'''\n",
    "예상 결과값 :\n",
    "{\n",
    "    \"+\" : 7,\n",
    "    \"-\" : -3,\n",
    "    \"/\" : 0.4,\n",
    "    \"%\" : 2,\n",
    "    \"*\" : 10\n",
    "}\n",
    "'''\n",
    "print('m')"
   ]
  },
  {
   "attachments": {},
   "cell_type": "markdown",
   "metadata": {},
   "source": [
    "# 사칙연산\n",
    "\n",
    "- 솔직히 알 것이라 믿지만, 파이썬의 사칙연산은 간단하다.\n",
    "\n",
    ": + => 더하기 (str + str이면 두 문자열의 합이 나온다)\n",
    ": * => 곱하기 (str * int이면 str을 int번 반복한 값이 나온디.)\n",
    ": / => 나누기 (소수가 나온다!)\n",
    ": % => 나눠서 나온 나머지 \n",
    ": - => 빼기\n",
    ": "
   ]
  },
  {
   "cell_type": "code",
   "execution_count": 2,
   "metadata": {},
   "outputs": [
    {
     "name": "stdout",
     "output_type": "stream",
     "text": [
      "int + int :: 4\n",
      "str + str :: 11\n",
      "int * int :: 4\n",
      "str * int :: 11\n"
     ]
    }
   ],
   "source": [
    "def showing() :\n",
    "    strr = str(1)\n",
    "    intt = int(2)\n",
    "    print('int + int :: '+str(intt+intt)) # 2+2 = 4\n",
    "    print('str + str :: '+(strr+strr))    # 1+1 = 2....일거같은데 왜 11이 나올까요\n",
    "\n",
    "    print('int * int :: '+str(intt*intt)) # 2*2 = 4\n",
    "    print('str * int :: '+(strr*intt))    # 1*2 = 2....일거같은데 왜 11아 나올까요\n",
    "    #Ps. 나중에 Web 개발할 때 Javascript로 하게되면 골치아파질 문제\n",
    "showing()"
   ]
  }
 ],
 "metadata": {
  "kernelspec": {
   "display_name": "Python 3",
   "language": "python",
   "name": "python3"
  },
  "language_info": {
   "codemirror_mode": {
    "name": "ipython",
    "version": 3
   },
   "file_extension": ".py",
   "mimetype": "text/x-python",
   "name": "python",
   "nbconvert_exporter": "python",
   "pygments_lexer": "ipython3",
   "version": "3.10.9"
  },
  "orig_nbformat": 4,
  "vscode": {
   "interpreter": {
    "hash": "17520897d6eafe7af38d6e67b5777e7d50df7b0a9de3181f821dce7d56a3e44f"
   }
  }
 },
 "nbformat": 4,
 "nbformat_minor": 2
}
